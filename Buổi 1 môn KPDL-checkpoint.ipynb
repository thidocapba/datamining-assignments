{
 "cells": [
  {
   "cell_type": "markdown",
   "id": "ccc181b5",
   "metadata": {},
   "source": [
    "**Khai báo các thư viện**"
   ]
  },
  {
   "cell_type": "code",
   "execution_count": 1,
   "id": "2c94f215",
   "metadata": {},
   "outputs": [
    {
     "name": "stderr",
     "output_type": "stream",
     "text": [
      "Matplotlib is building the font cache; this may take a moment.\n"
     ]
    }
   ],
   "source": [
    "import pandas as pd\n",
    "import matplotlib.pyplot as plt\n",
    "import matplotlib.ticker as ticker\n",
    "import numpy as np"
   ]
  },
  {
   "cell_type": "markdown",
   "id": "4d0959d0",
   "metadata": {},
   "source": [
    "**Đọc dữ liệu**"
   ]
  },
  {
   "cell_type": "code",
   "execution_count": 4,
   "id": "44bcdeef",
   "metadata": {},
   "outputs": [
    {
     "name": "stdout",
     "output_type": "stream",
     "text": [
      "    SoNamKinhNghiem  Luong NganhNghe\n",
      "0                 7   26.0    KeToan\n",
      "1                 4   13.8    KeToan\n",
      "2                 8   21.5    KeToan\n",
      "3                 9   24.0    KeToan\n",
      "4                 1    7.8    KeToan\n",
      "..              ...    ...       ...\n",
      "74                8   22.5      Sale\n",
      "75                5   16.7      Sale\n",
      "76                9   25.4      Sale\n",
      "77                6   18.9      Sale\n",
      "78                8   22.7      Sale\n",
      "\n",
      "[79 rows x 3 columns]\n"
     ]
    }
   ],
   "source": [
    "df = pd.read_csv('Work_data.csv')\n",
    "print(df)"
   ]
  },
  {
   "cell_type": "markdown",
   "id": "437d56bb",
   "metadata": {},
   "source": [
    "**Hiển thị số các thuộc tính**"
   ]
  },
  {
   "cell_type": "code",
   "execution_count": 10,
   "id": "0e773b44",
   "metadata": {},
   "outputs": [
    {
     "name": "stdout",
     "output_type": "stream",
     "text": [
      "(79, 3)\n",
      "Số dòng: 79\n",
      "Số cột: 3\n"
     ]
    }
   ],
   "source": [
    "print(df.shape)\n",
    "print('Số dòng:', df.shape[0])\n",
    "print('Số cột:', df.shape[1])"
   ]
  },
  {
   "cell_type": "code",
   "execution_count": 12,
   "id": "b934b3b3",
   "metadata": {},
   "outputs": [
    {
     "name": "stdout",
     "output_type": "stream",
     "text": [
      "5 dòng dữ liệu đầu tiên:\n",
      "    SoNamKinhNghiem  Luong NganhNghe\n",
      "0                7   26.0    KeToan\n",
      "1                4   13.8    KeToan\n",
      "2                8   21.5    KeToan\n",
      "3                9   24.0    KeToan\n",
      "4                1    7.8    KeToan\n"
     ]
    }
   ],
   "source": [
    "print('5 dòng dữ liệu đầu tiên:\\n', df.head())"
   ]
  },
  {
   "cell_type": "code",
   "execution_count": 13,
   "id": "70ebea1e",
   "metadata": {},
   "outputs": [
    {
     "name": "stdout",
     "output_type": "stream",
     "text": [
      "10 dòng dữ liệu đầu tiên:\n",
      "    SoNamKinhNghiem  Luong NganhNghe\n",
      "0                7   26.0    KeToan\n",
      "1                4   13.8    KeToan\n",
      "2                8   21.5    KeToan\n",
      "3                9   24.0    KeToan\n",
      "4                1    7.8    KeToan\n",
      "5                2   10.0    KeToan\n",
      "6                4   13.5    KeToan\n",
      "7                5   15.8    KeToan\n",
      "8                6   17.5    KeToan\n",
      "9               10   26.1    KeToan\n"
     ]
    }
   ],
   "source": [
    "print('10 dòng dữ liệu đầu tiên:\\n', df.head(10))"
   ]
  },
  {
   "cell_type": "code",
   "execution_count": 16,
   "id": "2e5252ad",
   "metadata": {},
   "outputs": [
    {
     "name": "stdout",
     "output_type": "stream",
     "text": [
      "10 dòng dữ liệu cuối cùng:\n",
      "     SoNamKinhNghiem  Luong NganhNghe\n",
      "69                3   13.1      Sale\n",
      "70                5   16.8      Sale\n",
      "71                0    7.2      Sale\n",
      "72                4   15.1      Sale\n",
      "73                7   21.3      Sale\n",
      "74                8   22.5      Sale\n",
      "75                5   16.7      Sale\n",
      "76                9   25.4      Sale\n",
      "77                6   18.9      Sale\n",
      "78                8   22.7      Sale\n"
     ]
    }
   ],
   "source": [
    "print('10 dòng dữ liệu cuối cùng:\\n', df.tail(10))"
   ]
  },
  {
   "cell_type": "code",
   "execution_count": 17,
   "id": "416e9e97",
   "metadata": {},
   "outputs": [
    {
     "name": "stdout",
     "output_type": "stream",
     "text": [
      "Các giá trị thống kê của dữ liệu định lượng:\n",
      "        SoNamKinhNghiem      Luong\n",
      "count        79.000000  79.000000\n",
      "mean          5.367089  17.355696\n",
      "std           3.105732   6.313391\n",
      "min           0.000000   5.800000\n",
      "25%           3.000000  12.600000\n",
      "50%           6.000000  17.500000\n",
      "75%           8.000000  22.750000\n",
      "max          10.000000  27.600000\n"
     ]
    }
   ],
   "source": [
    "print('Các giá trị thống kê của dữ liệu định lượng:\\n', df.describe())"
   ]
  },
  {
   "cell_type": "markdown",
   "id": "2724d487",
   "metadata": {},
   "source": [
    "**Đổi tên các thuộc tính về dạng ngắn gọn**"
   ]
  },
  {
   "cell_type": "code",
   "execution_count": 18,
   "id": "54301b47",
   "metadata": {},
   "outputs": [],
   "source": [
    "nam = df['SoNamKinhNghiem']\n",
    "luong = df['Luong']\n",
    "nghe = df['NganhNghe']"
   ]
  },
  {
   "cell_type": "markdown",
   "id": "6e771b33",
   "metadata": {},
   "source": [
    "**Vẽ biểu đồ**"
   ]
  },
  {
   "cell_type": "markdown",
   "id": "c6e3b83d",
   "metadata": {},
   "source": [
    "*Vẽ biểu đồ cột mô tả mqh giữa số năm kinh nghiệm và lương*"
   ]
  },
  {
   "cell_type": "code",
   "execution_count": 29,
   "id": "89ea6bbc",
   "metadata": {},
   "outputs": [
    {
     "data": {
      "image/png": "[encoded data removed]",
      "text/plain": [
       "<Figure size 432x288 with 1 Axes>"
      ]
     },
     "metadata": {
      "needs_background": "light"
     },
     "output_type": "display_data"
    }
   ],
   "source": [
    "plt.xlabel('Số năm kinh nghiệm')\n",
    "plt.ylabel('Lương')\n",
    "plt.title('Mức lương theo số năm kinh nghiệm')\n",
    "plt.xticks(nam, rotation = 45)\n",
    "plt.bar(nam, luong, color = 'green')\n",
    "plt.show()"
   ]
  },
  {
   "cell_type": "code",
   "execution_count": null,
   "id": "a6bded48",
   "metadata": {},
   "outputs": [],
   "source": []
  }
 ],
 "metadata": {
  "kernelspec": {
   "display_name": "Python 3",
   "language": "python",
   "name": "python3"
  },
  "language_info": {
   "codemirror_mode": {
    "name": "ipython",
    "version": 3
   },
   "file_extension": ".py",
   "mimetype": "text/x-python",
   "name": "python",
   "nbconvert_exporter": "python",
   "pygments_lexer": "ipython3",
   "version": "3.8.8"
  }
 },
 "nbformat": 4,
 "nbformat_minor": 5
}
