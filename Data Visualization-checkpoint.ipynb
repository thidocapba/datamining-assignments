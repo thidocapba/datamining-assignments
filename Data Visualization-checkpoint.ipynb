{
 "cells": [
  {
   "cell_type": "markdown",
   "id": "10c17236",
   "metadata": {},
   "source": [
    "**Step 1: Khai báo các thư viện**"
   ]
  },
  {
   "cell_type": "code",
   "execution_count": 1,
   "id": "c27a5b2d",
   "metadata": {},
   "outputs": [],
   "source": [
    "import pandas as pd\n",
    "import matplotlib.pyplot as plt\n",
    "import matplotlib.ticker as ticker\n",
    "import numpy as np"
   ]
  },
  {
   "cell_type": "markdown",
   "id": "d103637a",
   "metadata": {},
   "source": [
    "**Step 2: Đọc dữ liệu**"
   ]
  },
  {
   "cell_type": "code",
   "execution_count": 3,
   "id": "10070f29",
   "metadata": {},
   "outputs": [
    {
     "data": {
      "text/plain": [
       "(79, 3)"
      ]
     },
     "execution_count": 3,
     "metadata": {},
     "output_type": "execute_result"
    }
   ],
   "source": [
    "df = pd.read_csv('Work_data.csv')\n",
    "df.shape # Số lượng mẫu và số thuộc tính quan sát"
   ]
  },
  {
   "cell_type": "code",
   "execution_count": 3,
   "id": "3b29ecc2",
   "metadata": {},
   "outputs": [
    {
     "data": {
      "text/html": [
       "<div>\n",
       "<style scoped>\n",
       "    .dataframe tbody tr th:only-of-type {\n",
       "        vertical-align: middle;\n",
       "    }\n",
       "\n",
       "    .dataframe tbody tr th {\n",
       "        vertical-align: top;\n",
       "    }\n",
       "\n",
       "    .dataframe thead th {\n",
       "        text-align: right;\n",
       "    }\n",
       "</style>\n",
       "<table border=\"1\" class=\"dataframe\">\n",
       "  <thead>\n",
       "    <tr style=\"text-align: right;\">\n",
       "      <th></th>\n",
       "      <th>SoNamKinhNghiem</th>\n",
       "      <th>Luong</th>\n",
       "      <th>NganhNghe</th>\n",
       "    </tr>\n",
       "  </thead>\n",
       "  <tbody>\n",
       "    <tr>\n",
       "      <th>0</th>\n",
       "      <td>7</td>\n",
       "      <td>26.0</td>\n",
       "      <td>KeToan</td>\n",
       "    </tr>\n",
       "    <tr>\n",
       "      <th>1</th>\n",
       "      <td>4</td>\n",
       "      <td>13.8</td>\n",
       "      <td>KeToan</td>\n",
       "    </tr>\n",
       "    <tr>\n",
       "      <th>2</th>\n",
       "      <td>8</td>\n",
       "      <td>21.5</td>\n",
       "      <td>KeToan</td>\n",
       "    </tr>\n",
       "    <tr>\n",
       "      <th>3</th>\n",
       "      <td>9</td>\n",
       "      <td>24.0</td>\n",
       "      <td>KeToan</td>\n",
       "    </tr>\n",
       "    <tr>\n",
       "      <th>4</th>\n",
       "      <td>1</td>\n",
       "      <td>7.8</td>\n",
       "      <td>KeToan</td>\n",
       "    </tr>\n",
       "    <tr>\n",
       "      <th>5</th>\n",
       "      <td>2</td>\n",
       "      <td>10.0</td>\n",
       "      <td>KeToan</td>\n",
       "    </tr>\n",
       "    <tr>\n",
       "      <th>6</th>\n",
       "      <td>4</td>\n",
       "      <td>13.5</td>\n",
       "      <td>KeToan</td>\n",
       "    </tr>\n",
       "    <tr>\n",
       "      <th>7</th>\n",
       "      <td>5</td>\n",
       "      <td>15.8</td>\n",
       "      <td>KeToan</td>\n",
       "    </tr>\n",
       "    <tr>\n",
       "      <th>8</th>\n",
       "      <td>6</td>\n",
       "      <td>17.5</td>\n",
       "      <td>KeToan</td>\n",
       "    </tr>\n",
       "    <tr>\n",
       "      <th>9</th>\n",
       "      <td>10</td>\n",
       "      <td>26.1</td>\n",
       "      <td>KeToan</td>\n",
       "    </tr>\n",
       "  </tbody>\n",
       "</table>\n",
       "</div>"
      ],
      "text/plain": [
       "   SoNamKinhNghiem  Luong NganhNghe\n",
       "0                7   26.0    KeToan\n",
       "1                4   13.8    KeToan\n",
       "2                8   21.5    KeToan\n",
       "3                9   24.0    KeToan\n",
       "4                1    7.8    KeToan\n",
       "5                2   10.0    KeToan\n",
       "6                4   13.5    KeToan\n",
       "7                5   15.8    KeToan\n",
       "8                6   17.5    KeToan\n",
       "9               10   26.1    KeToan"
      ]
     },
     "execution_count": 3,
     "metadata": {},
     "output_type": "execute_result"
    }
   ],
   "source": [
    "df.head(10) # Xem 10 dòng dữ liệu đầu tiên"
   ]
  },
  {
   "cell_type": "code",
   "execution_count": 4,
   "id": "49519637",
   "metadata": {},
   "outputs": [
    {
     "name": "stdout",
     "output_type": "stream",
     "text": [
      "    SoNamKinhNghiem  Luong NganhNghe\n",
      "0                 7   26.0    KeToan\n",
      "1                 4   13.8    KeToan\n",
      "2                 8   21.5    KeToan\n",
      "3                 9   24.0    KeToan\n",
      "4                 1    7.8    KeToan\n",
      "..              ...    ...       ...\n",
      "74                8   22.5      Sale\n",
      "75                5   16.7      Sale\n",
      "76                9   25.4      Sale\n",
      "77                6   18.9      Sale\n",
      "78                8   22.7      Sale\n",
      "\n",
      "[79 rows x 3 columns]\n"
     ]
    }
   ],
   "source": [
    "print(df) # Xem toàn bộ dữ liệu"
   ]
  },
  {
   "cell_type": "markdown",
   "id": "03ada2a0",
   "metadata": {},
   "source": [
    "**Step 3: Xem các thông tin thống kê đối với các dữ liệu định lượng**\n",
    "- ***count***: tổng số các bản ghi trong dữ liệu\n",
    "- ***min, max***: giá trị nhỏ nhất và lớn nhất của dữ liệu\n",
    "- ***mean***: giá trị trung bình\n",
    "- ***std***: độ lệch chuẩn, giá trị STD lớn hay nhỏ phản ảnh tập dữ liệu phân bố tập trung quanh điểm trung tâm hay rời xa nó (ở đây là mean)"
   ]
  },
  {
   "cell_type": "code",
   "execution_count": 5,
   "id": "6cd4e0ea",
   "metadata": {},
   "outputs": [
    {
     "data": {
      "text/html": [
       "<div>\n",
       "<style scoped>\n",
       "    .dataframe tbody tr th:only-of-type {\n",
       "        vertical-align: middle;\n",
       "    }\n",
       "\n",
       "    .dataframe tbody tr th {\n",
       "        vertical-align: top;\n",
       "    }\n",
       "\n",
       "    .dataframe thead th {\n",
       "        text-align: right;\n",
       "    }\n",
       "</style>\n",
       "<table border=\"1\" class=\"dataframe\">\n",
       "  <thead>\n",
       "    <tr style=\"text-align: right;\">\n",
       "      <th></th>\n",
       "      <th>SoNamKinhNghiem</th>\n",
       "      <th>Luong</th>\n",
       "    </tr>\n",
       "  </thead>\n",
       "  <tbody>\n",
       "    <tr>\n",
       "      <th>count</th>\n",
       "      <td>79.000000</td>\n",
       "      <td>79.000000</td>\n",
       "    </tr>\n",
       "    <tr>\n",
       "      <th>mean</th>\n",
       "      <td>5.367089</td>\n",
       "      <td>17.355696</td>\n",
       "    </tr>\n",
       "    <tr>\n",
       "      <th>std</th>\n",
       "      <td>3.105732</td>\n",
       "      <td>6.313391</td>\n",
       "    </tr>\n",
       "    <tr>\n",
       "      <th>min</th>\n",
       "      <td>0.000000</td>\n",
       "      <td>5.800000</td>\n",
       "    </tr>\n",
       "    <tr>\n",
       "      <th>25%</th>\n",
       "      <td>3.000000</td>\n",
       "      <td>12.600000</td>\n",
       "    </tr>\n",
       "    <tr>\n",
       "      <th>50%</th>\n",
       "      <td>6.000000</td>\n",
       "      <td>17.500000</td>\n",
       "    </tr>\n",
       "    <tr>\n",
       "      <th>75%</th>\n",
       "      <td>8.000000</td>\n",
       "      <td>22.750000</td>\n",
       "    </tr>\n",
       "    <tr>\n",
       "      <th>max</th>\n",
       "      <td>10.000000</td>\n",
       "      <td>27.600000</td>\n",
       "    </tr>\n",
       "  </tbody>\n",
       "</table>\n",
       "</div>"
      ],
      "text/plain": [
       "       SoNamKinhNghiem      Luong\n",
       "count        79.000000  79.000000\n",
       "mean          5.367089  17.355696\n",
       "std           3.105732   6.313391\n",
       "min           0.000000   5.800000\n",
       "25%           3.000000  12.600000\n",
       "50%           6.000000  17.500000\n",
       "75%           8.000000  22.750000\n",
       "max          10.000000  27.600000"
      ]
     },
     "execution_count": 5,
     "metadata": {},
     "output_type": "execute_result"
    }
   ],
   "source": [
    "df.describe()"
   ]
  },
  {
   "cell_type": "markdown",
   "id": "15dc9e77",
   "metadata": {},
   "source": [
    "**Step 4: Đổi tên các thuộc tính cần dùng về dạng đơn giản giúp dễ dàng truy cập sau này**"
   ]
  },
  {
   "cell_type": "code",
   "execution_count": 4,
   "id": "22222d07",
   "metadata": {},
   "outputs": [],
   "source": [
    "nam = df['SoNamKinhNghiem']\n",
    "luong = df['Luong']\n",
    "nghe = df['NganhNghe']"
   ]
  },
  {
   "cell_type": "markdown",
   "id": "447e4d5c",
   "metadata": {},
   "source": [
    "**Step 5: Vẽ đồ thị, biểu đồ**"
   ]
  },
  {
   "cell_type": "markdown",
   "id": "7dc06d30",
   "metadata": {},
   "source": [
    "**Step 5.1: Biểu đồ cột/thanh dọc (Bar chart)**"
   ]
  },
  {
   "cell_type": "markdown",
   "id": "dd9e3905",
   "metadata": {},
   "source": [
    "- ***Mối quan hệ giữa số năm kinh nghiệm và lương***"
   ]
  },
  {
   "cell_type": "code",
   "execution_count": 7,
   "id": "4e3bb650",
   "metadata": {},
   "outputs": [
    {
     "data": {
      "image/png": "[encoded data removed]",
      "text/plain": [
       "<Figure size 432x288 with 1 Axes>"
      ]
     },
     "metadata": {
      "needs_background": "light"
     },
     "output_type": "display_data"
    }
   ],
   "source": [
    "plt.bar(nam, luong)\n",
    "plt.show()"
   ]
  },
  {
   "cell_type": "markdown",
   "id": "8b4f41c8",
   "metadata": {},
   "source": [
    "- ***Thêm nhãn cho biểu đồ***"
   ]
  },
  {
   "cell_type": "code",
   "execution_count": 7,
   "id": "f66478ad",
   "metadata": {},
   "outputs": [
    {
     "data": {
      "text/plain": [
       "<function matplotlib.pyplot.show(close=None, block=None)>"
      ]
     },
     "execution_count": 7,
     "metadata": {},
     "output_type": "execute_result"
    },
    {
     "data": {
      "image/png": "[encoded data removed]",
      "text/plain": [
       "<Figure size 432x288 with 1 Axes>"
      ]
     },
     "metadata": {
      "needs_background": "light"
     },
     "output_type": "display_data"
    }
   ],
   "source": [
    "plt.xlabel('Số năm kinh nghiệm')\n",
    "plt.ylabel('Lương')\n",
    "plt.suptitle('Mức lương theo số năm kinh nghiệm')\n",
    "#Hiển thị nhãn của các năm\n",
    "plt.xticks(nam, rotation = 45)\n",
    "plt.bar(nam, luong)\n",
    "plt.show"
   ]
  },
  {
   "cell_type": "markdown",
   "id": "ddf01e63",
   "metadata": {},
   "source": [
    "**Step 5.2: Biểu đồ cột ngang**"
   ]
  },
  {
   "cell_type": "code",
   "execution_count": 10,
   "id": "6b84cf8b",
   "metadata": {},
   "outputs": [
    {
     "data": {
      "image/png": "[encoded data removed]",
      "text/plain": [
       "<Figure size 432x288 with 1 Axes>"
      ]
     },
     "metadata": {
      "needs_background": "light"
     },
     "output_type": "display_data"
    }
   ],
   "source": [
    "plt.xlabel('Lương')\n",
    "plt.ylabel('Số năm kinh nghiệm')\n",
    "plt.suptitle('Mức lương theo số năm kinh nghiệm')\n",
    "plt.barh(nam, luong, color = 'pink')\n",
    "plt.show()"
   ]
  },
  {
   "cell_type": "markdown",
   "id": "f7c7aacf",
   "metadata": {},
   "source": [
    "**Step 5.3: Vẽ nhiều đồ thị trong cùng 1 ảnh**"
   ]
  },
  {
   "cell_type": "markdown",
   "id": "a91c10ed",
   "metadata": {},
   "source": [
    "- ***Ví dụ: vẽ 3 đồ thị về mối quan hệ giữa lương và số năm kinh nghiệm của từng ngành nghề***"
   ]
  },
  {
   "cell_type": "markdown",
   "id": "08be60db",
   "metadata": {},
   "source": [
    "- ***Bước 1: Tách bảng dữ liệu ban đầu thành các bảng con theo ngành nghề***"
   ]
  },
  {
   "cell_type": "code",
   "execution_count": 7,
   "id": "4cb1affd",
   "metadata": {},
   "outputs": [
    {
     "name": "stdout",
     "output_type": "stream",
     "text": [
      "Số lượng mẫu nhân viên Kế toán: 19\n",
      "Số lượng mẫu nhân viên HCNS: 20\n",
      "Số lượng mẫu nhân viên Sale: 40\n",
      "Dữ liệu bảng kế toán\n",
      "     SoNamKinhNghiem  Luong NganhNghe\n",
      "0                 7   26.0    KeToan\n",
      "1                 4   13.8    KeToan\n",
      "2                 8   21.5    KeToan\n",
      "3                 9   24.0    KeToan\n",
      "4                 1    7.8    KeToan\n",
      "5                 2   10.0    KeToan\n",
      "6                 4   13.5    KeToan\n",
      "7                 5   15.8    KeToan\n",
      "8                 6   17.5    KeToan\n",
      "9                10   26.1    KeToan\n",
      "10                1    8.3    KeToan\n",
      "11                9   23.9    KeToan\n",
      "12                0    5.8    KeToan\n",
      "13                7   19.9    KeToan\n",
      "14                4   13.8    KeToan\n",
      "15                3   11.6    KeToan\n",
      "16                3   11.7    KeToan\n",
      "17               10   25.8    KeToan\n",
      "18                2    9.6    KeToan\n"
     ]
    }
   ],
   "source": [
    "df_ketoan = df[df['NganhNghe'] == 'KeToan']\n",
    "df_hcns = df[df['NganhNghe'] == 'HCNS']\n",
    "df_sale = df[df['NganhNghe'] == 'Sale']\n",
    "\n",
    "print(\"Số lượng mẫu nhân viên Kế toán: \" + str(df_ketoan.shape[0]))\n",
    "print(\"Số lượng mẫu nhân viên HCNS: \" + str(df_hcns.shape[0]))\n",
    "print(\"Số lượng mẫu nhân viên Sale: \" + str(df_sale.shape[0]))\n",
    "\n",
    "print(\"Dữ liệu bảng kế toán\\n\", df_ketoan)"
   ]
  },
  {
   "cell_type": "markdown",
   "id": "4c6b2abb",
   "metadata": {},
   "source": [
    "- ***Bước 2: Vẽ 3 đồ thị trong Matplotlib, mỗi plt.plot() trả về 1 đối tượng Figure(là hình ảnh bên ngoài), trong Figure lại có thể có nhiều các đối tượng Axes là các đồ thị con bên trong***"
   ]
  },
  {
   "cell_type": "code",
   "execution_count": 13,
   "id": "740350e5",
   "metadata": {},
   "outputs": [
    {
     "data": {
      "image/png": "[encoded data removed]",
      "text/plain": [
       "<Figure size 800x320 with 3 Axes>"
      ]
     },
     "metadata": {
      "needs_background": "light"
     },
     "output_type": "display_data"
    }
   ],
   "source": [
    "fig, (ax1, ax2, ax3) = plt.subplots(1, 3, figsize = (10, 4), sharey = True, dpi = 80)\n",
    "\n",
    "ax1.bar(df_ketoan['SoNamKinhNghiem'], df_ketoan['Luong'])\n",
    "ax2.bar(df_hcns['SoNamKinhNghiem'], df_hcns['Luong'])\n",
    "ax3.bar(df_sale['SoNamKinhNghiem'], df_sale['Luong'])\n",
    "\n",
    "# Tiêu đề và nhãn của các đồ thị con\n",
    "ax1.set_title('Kế toán')\n",
    "ax2.set_title('Hành chính nhân sự')\n",
    "ax3.set_title('Sale')\n",
    "\n",
    "ax1.set_xlabel('Số năm kinh nghiệm')\n",
    "ax2.set_xlabel('Số năm kinh nghiệm')\n",
    "ax3.set_xlabel('Số năm kinh nghiệm')\n",
    "\n",
    "ax1.set_ylabel('Lương')\n",
    "ax2.set_ylabel('Lương')\n",
    "ax3.set_ylabel('Lương')\n",
    "\n",
    "plt.tight_layout()\n",
    "plt.show()"
   ]
  },
  {
   "cell_type": "markdown",
   "id": "c3d85082",
   "metadata": {},
   "source": [
    "**Step 5.4: Biểu đồ thanh xếp chồng - Stacked Bar Chart**"
   ]
  },
  {
   "cell_type": "markdown",
   "id": "188134c0",
   "metadata": {},
   "source": [
    "- ***Ví dụ: Vẽ biểu đồ thanh xếp chồng của trung bình cộng lương và trung bình cộng số năm kinh nghiệm theo các ngành nghề***"
   ]
  },
  {
   "cell_type": "code",
   "execution_count": 4,
   "id": "5bf94d2e",
   "metadata": {},
   "outputs": [
    {
     "name": "stdout",
     "output_type": "stream",
     "text": [
      "TBC lương theo nghề \n",
      "                Luong\n",
      "NganhNghe           \n",
      "HCNS       16.790000\n",
      "KeToan     16.126316\n",
      "Sale       18.222500 \n",
      "\n",
      "TBC năm kinh nghiệm theo nghề \n",
      "            SoNamKinhNghiem\n",
      "NganhNghe                 \n",
      "HCNS                 5.200\n",
      "KeToan               5.000\n",
      "Sale                 5.625\n"
     ]
    },
    {
     "data": {
      "image/png": "[encoded data removed]",
      "text/plain": [
       "<Figure size 432x288 with 1 Axes>"
      ]
     },
     "metadata": {
      "needs_background": "light"
     },
     "output_type": "display_data"
    }
   ],
   "source": [
    "tbc_luong_nghe = df.groupby('NganhNghe')[['Luong']].mean()\n",
    "tbc_nam_nghe = df.groupby('NganhNghe')[['SoNamKinhNghiem']].mean()\n",
    "print('TBC lương theo nghề','\\n', tbc_luong_nghe, '\\n')\n",
    "print('TBC năm kinh nghiệm theo nghề','\\n', tbc_nam_nghe)\n",
    "\n",
    "plt.xlabel('Các ngành nghề', color = 'green', fontweight = 'bold', fontsize = '15')\n",
    "\n",
    "plt.bar(tbc_luong_nghe.index, tbc_luong_nghe['Luong'], label = 'TBC lương')\n",
    "plt.bar(tbc_nam_nghe.index, tbc_nam_nghe['SoNamKinhNghiem'], label = 'TBC năm kinh nghiệm')\n",
    "\n",
    "plt.legend() # Hiển thị nhãn label\n",
    "plt.show()"
   ]
  },
  {
   "cell_type": "markdown",
   "id": "4484e6b5",
   "metadata": {},
   "source": [
    "**Step 5.5: Biểu đồ thanh nhóm - Grouped Bar Chart(cho phép các thanh đứng liền nhau)**"
   ]
  },
  {
   "cell_type": "markdown",
   "id": "1667090a",
   "metadata": {},
   "source": [
    "- ***Ví dụ: Vẽ biểu đồ minh họa các giá trị lương lớn nhất, nhỏ nhất, trung bình theo mỗi ngành nghề***"
   ]
  },
  {
   "cell_type": "code",
   "execution_count": 5,
   "id": "6778b7ce",
   "metadata": {},
   "outputs": [
    {
     "data": {
      "image/png": "[encoded data removed]",
      "text/plain": [
       "<Figure size 432x288 with 1 Axes>"
      ]
     },
     "metadata": {
      "needs_background": "light"
     },
     "output_type": "display_data"
    }
   ],
   "source": [
    "# Tính lương lớn nhất, nhỏ nhất, trung bình theo mỗi ngành nghề\n",
    "max_luong_nghe = df.groupby('NganhNghe')[['Luong']].max()\n",
    "min_luong_nghe = df.groupby('NganhNghe')[['Luong']].min()\n",
    "tbc_luong_nghe = df.groupby('NganhNghe')[['Luong']].mean()\n",
    "\n",
    "x = np.arange(len(max_luong_nghe.index))\n",
    "\n",
    "width = 0.2 # Kích thước các thanh\n",
    "\n",
    "fig, ax = plt.subplots()\n",
    "ax.bar(x, max_luong_nghe['Luong'], width, label = 'Lương max')\n",
    "ax.bar(x + 0.2, min_luong_nghe['Luong'], width, label = 'Lương min')\n",
    "ax.bar(x + 0.4, tbc_luong_nghe['Luong'], width, label = 'Lương tbc')\n",
    "\n",
    "# Add some text for labels, title and custom x-axis tick labels, etc...\n",
    "ax.set_title('Giá trị lương theo ngành nghề')\n",
    "ax.set_xticks(x)\n",
    "ax.set_xticklabels(max_luong_nghe.index) # Thiết lập chuỗi các nhãn\n",
    "ax.legend()\n",
    "fig.tight_layout()\n",
    "plt.show()"
   ]
  },
  {
   "cell_type": "markdown",
   "id": "3f792556",
   "metadata": {},
   "source": [
    "**Step 5.6: Biểu đồ hộp**\n",
    "\n",
    "Biểu đồ hộp (Box-plot) hay còn gọi là biểu đồ hộp và râu (box-and-whisker) là biểu đồ diễn tả 5 vị trí phân bố của dữ liệu, đó là: giá trị nhỏ nhất k ngoại lai (râu dưới) (L), tứ phân vị thứ nhất (Q1), trung vị (median), tứ phân vị thứ 3 (Q3) và giá trị lớn nhất k ngoại lai (râu trên) (U).\n",
    "\n",
    "Biểu đồ hộp cho biết phân bố của dữ liệu và xác định các giá trị ngoại lai:\n",
    "- Nếu đường trung vị chia chiếc hộp thành 2 nửa đều nhau, thì tập dữ liệu này đối xứng (symetric). Nếu nửa dưới nhỏ hơn nửa trên thì tập dữ liệu bị lệch phải (right-skewed) và ngược lại nếu nửa dưới lớn hơn thì tập dữ liệu bị lệch trái (left-skewed).\n",
    "- Các giá trị ngoại lai (nếu có) sẽ xuất hiện bên ngoài phía dưới râu dưới và phía trên râu trên."
   ]
  },
  {
   "cell_type": "markdown",
   "id": "c2c23650",
   "metadata": {},
   "source": [
    "- ***Ví dụ: Vẽ biểu đồ hộp mô tả tỉ lệ CO2 bình quân đầu người của 8 quốc gia đông dân số nhất trên thế giới***"
   ]
  },
  {
   "cell_type": "code",
   "execution_count": 5,
   "id": "b15ba768",
   "metadata": {},
   "outputs": [
    {
     "data": {
      "image/png": "[encoded data removed]",
      "text/plain": [
       "<Figure size 432x288 with 1 Axes>"
      ]
     },
     "metadata": {
      "needs_background": "light"
     },
     "output_type": "display_data"
    }
   ],
   "source": [
    "nuoc = np.array(['china', 'india', 'us', 'indonesia', 'brazil', 'pakistan', 'russia', 'bangladesh'])\n",
    "co2 = np.array([4.9, 1.4, 18.9, 1.8, 1.9, 0.9, 10.8, 0.3])\n",
    "\n",
    "plt.boxplot(co2)\n",
    "plt.show()\n",
    "\n",
    "#Ta có kết quả như sau:\n",
    "#1.        Min = 0.3\n",
    "#2.        Q1 = 1.275\n",
    "#3.        Trung vị (median) = 1.85\n",
    "#4.        Q3 = 6.375\n",
    "#5.        Max = 18.9\n",
    "#6.        IQR = Q3 - Q1 = 5.1\n",
    "#7.        Giá trị thấp nhất của biến L = Q1 - 1.5 x IQR = -6.375\n",
    "#8.        Giá trị lớn nhất của biến U = Q3 + 1.5 x IQR = 14.035\n",
    "#9.        Từ (7) và (8) =>> us = 18.9 là 1 giá trị ngoại biên."
   ]
  },
  {
   "cell_type": "code",
   "execution_count": 8,
   "id": "e95d2519",
   "metadata": {},
   "outputs": [
    {
     "data": {
      "image/png": "[encoded data removed]",
      "text/plain": [
       "<Figure size 432x288 with 1 Axes>"
      ]
     },
     "metadata": {
      "needs_background": "light"
     },
     "output_type": "display_data"
    }
   ],
   "source": [
    "# Biểu đồ hộp phân bố lương của nhân viên kế toán\n",
    "plt.boxplot(df_ketoan['Luong'])\n",
    "plt.show()"
   ]
  },
  {
   "cell_type": "markdown",
   "id": "fdf847c2",
   "metadata": {},
   "source": [
    "**Step 5.7: Biểu đồ đường - Line Plot**\n",
    " (Được sử dụng để mô tả xu hướng biến động tăng hay giảm của dữ liệu)\n",
    "- ***VD: Vẽ biểu đồ đường của Lương theo 79 dòng dữ liệu***\n",
    "- ***1 số định dạng:***\n",
    "    - ***'go-': các điểm có màu xanh (g) và nối 2 điểm là đường thẳng (có thể thay màu và kiểu đường ví dụ 'yo-.')***\n",
    "    - ***'go': chỉ hiện thị các điểm của đồ thị***\n",
    "    - ***'r*--': các điểm hình ngôi sao màu đỏ, đường nối các điểm dạng --***\n",
    "    - ***'bD-': các điểm hình kim cương màu xanh dương, đường nối các điểm dạng -***\n",
    "    - ***'g^-': các điểm hình tam giác hướng lên màu xanh lá, đường nối các điểm dạng -***"
   ]
  },
  {
   "cell_type": "code",
   "execution_count": 9,
   "id": "9f101949",
   "metadata": {},
   "outputs": [
    {
     "data": {
      "image/png": "[encoded data removed]",
      "text/plain": [
       "<Figure size 432x288 with 1 Axes>"
      ]
     },
     "metadata": {
      "needs_background": "light"
     },
     "output_type": "display_data"
    }
   ],
   "source": [
    "plt.ylabel('Lương')\n",
    "plt.grid()\n",
    "plt.plot(luong, 'go-')\n",
    "plt.show()"
   ]
  },
  {
   "cell_type": "code",
   "execution_count": 10,
   "id": "39a9ca6f",
   "metadata": {},
   "outputs": [
    {
     "data": {
      "image/png": "[encoded data removed]",
      "text/plain": [
       "<Figure size 432x288 with 1 Axes>"
      ]
     },
     "metadata": {
      "needs_background": "light"
     },
     "output_type": "display_data"
    }
   ],
   "source": [
    "# Vẽ biểu đồ đường mô tả mqh giữa số năm kinh nghiệm và mức lương trung bình\n",
    "tbc_luong_nam = df.groupby('SoNamKinhNghiem')[['Luong']].mean()\n",
    "plt.xlabel('Số năm kinh nghiệm')\n",
    "plt.grid()\n",
    "plt.plot(tbc_luong_nam, 'ro-')\n",
    "plt.show()"
   ]
  },
  {
   "cell_type": "markdown",
   "id": "489db519",
   "metadata": {},
   "source": [
    "**Step 5.7: Biểu đồ phân tán Scatter (Biểu đồ phân tán mô tả sự phân bố của dữ liệu trong không gian 2 chiều)**\n",
    "  - ***VD: Vẽ biểu đồ mô tả sự phân bố của Lương***"
   ]
  },
  {
   "cell_type": "code",
   "execution_count": 11,
   "id": "af3ee6de",
   "metadata": {},
   "outputs": [
    {
     "data": {
      "image/png": "[encoded data removed]",
      "text/plain": [
       "<Figure size 432x288 with 1 Axes>"
      ]
     },
     "metadata": {
      "needs_background": "light"
     },
     "output_type": "display_data"
    }
   ],
   "source": [
    "plt.scatter(df.index, luong)\n",
    "plt.show()"
   ]
  },
  {
   "cell_type": "markdown",
   "id": "f8e3d44a",
   "metadata": {},
   "source": [
    "***Sự khác biệt giữa plot() và scatter(): plot() k có khả năng thay đổi màu và kích thước điểm trong tập hợp điểm ban đầu nhưng scatter() lại có thể. plot() có thể vẽ các đường nối 2 điểm liên tiếp, scatter() thì không. VD sau đây vẽ ra các điểm trên đồ thị với dữ liệu về chiều cao và cân nặng, mỗi điểm có màu ngẫu nhiên và có kích thước cũng ngẫu nhiên.***"
   ]
  },
  {
   "cell_type": "code",
   "execution_count": 12,
   "id": "4d3013b4",
   "metadata": {},
   "outputs": [
    {
     "data": {
      "image/png": "[encoded data removed]",
      "text/plain": [
       "<Figure size 432x288 with 1 Axes>"
      ]
     },
     "metadata": {
      "needs_background": "light"
     },
     "output_type": "display_data"
    }
   ],
   "source": [
    "height = np.array([167, 170, 149, 165, 155, 180, 166, 146, 159, 185, 145, 168, 172, 181, 169])\n",
    "weight = np.array([86, 74, 66, 78, 68, 79, 90, 73, 70, 88, 66, 84, 67, 84, 77])\n",
    "\n",
    "colors = np.random.rand(15) #Sinh ngẫu nhiên 15 giá trị colors\n",
    "area = (30 * np.random.rand(15)) ** 2\n",
    "\n",
    "plt.xlim(140, 200) #Giới hạn trục x có giá trị từ 140 đến 200cm\n",
    "plt.ylim(60, 100) #Giới hạn trục y có giá trị từ 60 đến 100kg\n",
    "plt.scatter(height, weight, s = area, c = colors)\n",
    "plt.title('Chiều cao và cân nặng')\n",
    "plt.xlabel('Chiều cao - cm')\n",
    "plt.ylabel('Cân nặng - kg')\n",
    "plt.show()"
   ]
  },
  {
   "cell_type": "code",
   "execution_count": null,
   "id": "ae3366b2",
   "metadata": {},
   "outputs": [],
   "source": []
  }
 ],
 "metadata": {
  "kernelspec": {
   "display_name": "Python 3",
   "language": "python",
   "name": "python3"
  },
  "language_info": {
   "codemirror_mode": {
    "name": "ipython",
    "version": 3
   },
   "file_extension": ".py",
   "mimetype": "text/x-python",
   "name": "python",
   "nbconvert_exporter": "python",
   "pygments_lexer": "ipython3",
   "version": "3.8.8"
  }
 },
 "nbformat": 4,
 "nbformat_minor": 5
}
